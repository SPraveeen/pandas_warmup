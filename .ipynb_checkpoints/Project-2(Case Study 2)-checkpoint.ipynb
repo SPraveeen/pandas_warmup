{
 "cells": [
  {
   "cell_type": "markdown",
   "id": "565bdb2e-9027-4251-a596-6e0cb3ccbee1",
   "metadata": {},
   "source": [
    "**1.  Display Top 10 Rows of The Dataset**"
   ]
  },
  {
   "cell_type": "code",
   "execution_count": null,
   "id": "3d438662-a49a-45e6-8780-fac4a3e133f5",
   "metadata": {},
   "outputs": [],
   "source": []
  },
  {
   "cell_type": "markdown",
   "id": "eadd4528-69dc-4892-91a6-d4e74f0193ca",
   "metadata": {},
   "source": [
    "**2. Check Last 10 Rows of The Dataset**"
   ]
  },
  {
   "cell_type": "code",
   "execution_count": null,
   "id": "8266cb98-47a1-4ea0-8e6e-18ffc0d6c454",
   "metadata": {},
   "outputs": [],
   "source": []
  },
  {
   "cell_type": "markdown",
   "id": "c8f84bd4-cc16-4fe4-b9d4-68230e3f05ff",
   "metadata": {},
   "source": [
    "**3. Find Shape of Our Dataset (Number of Rows And Number of Columns)**"
   ]
  },
  {
   "cell_type": "code",
   "execution_count": null,
   "id": "54d223b4-4720-4be2-9361-a71d8a3f7ab0",
   "metadata": {},
   "outputs": [],
   "source": []
  },
  {
   "cell_type": "markdown",
   "id": "812b1ae6-ac21-4797-9f08-172041be18c8",
   "metadata": {},
   "source": [
    "**4.  Getting Information About Our Dataset Like Total Number Rows, Total Number of Columns, Datatypes of Each Column And Memory Requirement**"
   ]
  },
  {
   "cell_type": "code",
   "execution_count": null,
   "id": "7c1850d4-69e9-4113-aa70-658c26b9a2e5",
   "metadata": {},
   "outputs": [],
   "source": []
  },
  {
   "cell_type": "markdown",
   "id": "61f9056a-1a10-4921-8e5b-eb9ff83d3b8c",
   "metadata": {},
   "source": [
    "**5. Check Null Values In The Dataset**"
   ]
  },
  {
   "cell_type": "code",
   "execution_count": null,
   "id": "1630a355-1373-4416-8bbb-a9dee3ceeedf",
   "metadata": {},
   "outputs": [],
   "source": []
  },
  {
   "cell_type": "markdown",
   "id": "5be2d5b1-7bbe-47c6-ac78-3f18a825e199",
   "metadata": {},
   "source": [
    "**6. Drop ID, Notes, Agency, and Status Columns**"
   ]
  },
  {
   "cell_type": "code",
   "execution_count": null,
   "id": "a9128e1f-0090-4e3b-854c-9cf16387e77d",
   "metadata": {},
   "outputs": [],
   "source": []
  },
  {
   "cell_type": "markdown",
   "id": "792c412c-1395-4a63-9ad6-d006ee00295d",
   "metadata": {},
   "source": [
    "**7. Get Overall Statistics About The Dataframe**"
   ]
  },
  {
   "cell_type": "code",
   "execution_count": null,
   "id": "1b4671e0-1f47-4184-b565-537776a26f52",
   "metadata": {},
   "outputs": [],
   "source": []
  },
  {
   "cell_type": "code",
   "execution_count": null,
   "id": "7d56ba03-948b-4caf-8e63-1cc4d48410ee",
   "metadata": {},
   "outputs": [],
   "source": []
  },
  {
   "cell_type": "markdown",
   "id": "ce76c5a5-21ea-44a3-b6fd-989e932a099e",
   "metadata": {},
   "source": [
    "**8. Find Occurrence of The Employee Names  (Top 5)**"
   ]
  },
  {
   "cell_type": "code",
   "execution_count": null,
   "id": "fefa2372-788e-4a25-beed-7600a73e69d7",
   "metadata": {},
   "outputs": [],
   "source": []
  },
  {
   "cell_type": "markdown",
   "id": "f454a7bb-ddc5-4326-8768-5cdbf143f090",
   "metadata": {},
   "source": [
    "**9. Find The Number of Unique Job Titles**"
   ]
  },
  {
   "cell_type": "code",
   "execution_count": null,
   "id": "99b1ad6f-e0ea-4883-a5f4-f21fddd4d6ee",
   "metadata": {},
   "outputs": [],
   "source": []
  },
  {
   "cell_type": "markdown",
   "id": "48ec2e72-10c1-490c-82ec-bf8e9d3ab951",
   "metadata": {},
   "source": [
    "**10.Total Number of Job Titles Contain Captain**"
   ]
  },
  {
   "cell_type": "code",
   "execution_count": null,
   "id": "7a060a1a-a49c-409a-95cc-3e556be00abf",
   "metadata": {},
   "outputs": [],
   "source": []
  },
  {
   "cell_type": "markdown",
   "id": "ed16b86a-73b5-4288-b3a4-45a1da1e4381",
   "metadata": {},
   "source": [
    "**11. Display All the Employee Names From Fire Department**"
   ]
  },
  {
   "cell_type": "code",
   "execution_count": null,
   "id": "99b30bba-3f0b-4792-855d-ece0b8fa47a2",
   "metadata": {},
   "outputs": [],
   "source": []
  },
  {
   "cell_type": "markdown",
   "id": "94e36372-e51a-458f-b752-2e5fab2f1a26",
   "metadata": {},
   "source": [
    "**12. Find Minimum, Maximum, and Average BasePay**"
   ]
  },
  {
   "cell_type": "code",
   "execution_count": null,
   "id": "b9803d88-dbcc-439a-ac43-b41ac5f88720",
   "metadata": {},
   "outputs": [],
   "source": []
  },
  {
   "cell_type": "markdown",
   "id": "b79cd3ca-a0be-4959-9d49-d6ca12f1ab81",
   "metadata": {},
   "source": [
    "**13. Replace 'Not Provided' in EmployeeName' Column to NaN**"
   ]
  },
  {
   "cell_type": "code",
   "execution_count": null,
   "id": "c4e99b69-fbb2-4736-ba0d-7b2486a9dab0",
   "metadata": {},
   "outputs": [],
   "source": []
  },
  {
   "cell_type": "markdown",
   "id": "d2bf0f5f-3524-4270-93c8-6d79d6eb8a89",
   "metadata": {},
   "source": [
    "**14. Drop The Rows Having 5 Missing Values**"
   ]
  },
  {
   "cell_type": "code",
   "execution_count": null,
   "id": "d31caf6b-7290-4347-8e21-60a68bb1cac8",
   "metadata": {},
   "outputs": [],
   "source": []
  },
  {
   "cell_type": "markdown",
   "id": "f0970608-0048-446b-a805-8950f267f04f",
   "metadata": {},
   "source": [
    "**15. Find Job Title of ALBERT PARDINI**"
   ]
  },
  {
   "cell_type": "code",
   "execution_count": null,
   "id": "849a89be-ab19-4a06-8e41-bd899d83bf6c",
   "metadata": {},
   "outputs": [],
   "source": []
  },
  {
   "cell_type": "markdown",
   "id": "5bbc8f5e-c6f1-4ad2-945c-af35006866ad",
   "metadata": {},
   "source": [
    "**16. How Much ALBERT PARDINI Make (Include Benefits)?**"
   ]
  },
  {
   "cell_type": "code",
   "execution_count": null,
   "id": "595fe88e-8442-412c-a7f1-93331f0f9396",
   "metadata": {},
   "outputs": [],
   "source": []
  },
  {
   "cell_type": "markdown",
   "id": "8ddc54bc-6575-49ee-8bfd-8ad4feeccc3c",
   "metadata": {},
   "source": [
    "**17.Display Name of The Person Having The Highest BasePay**"
   ]
  },
  {
   "cell_type": "code",
   "execution_count": null,
   "id": "0f30e083-fa0f-46d8-8fad-ac4752250c64",
   "metadata": {},
   "outputs": [],
   "source": []
  },
  {
   "cell_type": "markdown",
   "id": "4a676e27-ed1b-48ae-a4ba-f6b177f2d713",
   "metadata": {},
   "source": [
    "**18.Find Average BasePay of All Employee Per Year**"
   ]
  },
  {
   "cell_type": "code",
   "execution_count": null,
   "id": "5ed74873-375a-4cc3-8228-452dc21ef655",
   "metadata": {},
   "outputs": [],
   "source": []
  },
  {
   "cell_type": "markdown",
   "id": "9d7b3758-2d80-46a9-8fb5-ea48d3aa6b5b",
   "metadata": {},
   "source": [
    "**19. Find Average BasePay of All Employee Per JobTitle**"
   ]
  },
  {
   "cell_type": "code",
   "execution_count": null,
   "id": "1c638b8f-13fe-47eb-a582-77f3d785a1f6",
   "metadata": {},
   "outputs": [],
   "source": []
  },
  {
   "cell_type": "markdown",
   "id": "3ab6a348-46a3-42b1-a1d0-044eca16d195",
   "metadata": {},
   "source": [
    "**20. Find Average BasePay of Employee Having Job Title ACCOUNTANT**"
   ]
  },
  {
   "cell_type": "code",
   "execution_count": null,
   "id": "6489fb01-5a07-438c-b6c0-e30a1fddb5fe",
   "metadata": {},
   "outputs": [],
   "source": []
  },
  {
   "cell_type": "markdown",
   "id": "6dff0d93-19b0-432d-a45e-cfbfaae9c84f",
   "metadata": {},
   "source": [
    "**21. Find Top 5 Most Common Jobs**"
   ]
  },
  {
   "cell_type": "code",
   "execution_count": null,
   "id": "288303c4-88a3-4121-ac27-35684d7158ee",
   "metadata": {},
   "outputs": [],
   "source": []
  }
 ],
 "metadata": {
  "kernelspec": {
   "display_name": "Python 3 (ipykernel)",
   "language": "python",
   "name": "python3"
  },
  "language_info": {
   "codemirror_mode": {
    "name": "ipython",
    "version": 3
   },
   "file_extension": ".py",
   "mimetype": "text/x-python",
   "name": "python",
   "nbconvert_exporter": "python",
   "pygments_lexer": "ipython3",
   "version": "3.13.3"
  }
 },
 "nbformat": 4,
 "nbformat_minor": 5
}
