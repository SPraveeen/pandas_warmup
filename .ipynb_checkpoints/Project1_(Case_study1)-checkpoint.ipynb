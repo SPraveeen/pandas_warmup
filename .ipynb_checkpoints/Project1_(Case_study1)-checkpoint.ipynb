{
 "cells": [
  {
   "cell_type": "markdown",
   "id": "1f43ef15-95a4-4851-86d4-51241561e93f",
   "metadata": {},
   "source": [
    "**1.Display Top 10 rows of the Dataset**"
   ]
  },
  {
   "cell_type": "code",
   "execution_count": null,
   "id": "9594c284-9435-4863-a159-7052289b23a9",
   "metadata": {},
   "outputs": [],
   "source": []
  },
  {
   "cell_type": "markdown",
   "id": "4055e1db-64ce-4a3c-bfcd-5d5da1ca2613",
   "metadata": {},
   "source": [
    "**2.Check Last 10 rows of the dataset**"
   ]
  },
  {
   "cell_type": "code",
   "execution_count": null,
   "id": "1748b7d9-a5ee-405f-84ca-f8bee4c23025",
   "metadata": {},
   "outputs": [],
   "source": []
  },
  {
   "cell_type": "markdown",
   "id": "2e7a81ac-046b-4f94-8dae-b4a1521df3fe",
   "metadata": {},
   "source": [
    "**3.Check datatype of each column**"
   ]
  },
  {
   "cell_type": "code",
   "execution_count": null,
   "id": "6a92f5c9-f1f8-4deb-a211-4682669f31c2",
   "metadata": {},
   "outputs": [],
   "source": []
  },
  {
   "cell_type": "markdown",
   "id": "06fdc0fb-be0c-4d2d-8818-f96123707178",
   "metadata": {},
   "source": [
    "**4.check null values in the dataset**"
   ]
  },
  {
   "cell_type": "code",
   "execution_count": null,
   "id": "d07339c0-171c-435f-a623-a6aef90fca3e",
   "metadata": {},
   "outputs": [],
   "source": []
  },
  {
   "cell_type": "markdown",
   "id": "9d063723-7423-4a33-99b5-3709733b7330",
   "metadata": {},
   "source": [
    "**5.how many rows and columns are there in our dataset**"
   ]
  },
  {
   "cell_type": "code",
   "execution_count": null,
   "id": "7bbde904-89ce-4cc9-9931-6ec0a7b02742",
   "metadata": {},
   "outputs": [],
   "source": []
  },
  {
   "cell_type": "markdown",
   "id": "a2a1d2ab-eb7a-45d2-8134-20409ddc4a6c",
   "metadata": {},
   "source": [
    "**6.Highest and lowest purchase proce**"
   ]
  },
  {
   "cell_type": "code",
   "execution_count": null,
   "id": "103fecaf-94a0-4269-9280-7180258def6e",
   "metadata": {},
   "outputs": [],
   "source": []
  },
  {
   "cell_type": "markdown",
   "id": "9f5f6157-5065-42f6-b416-cc68f89d92bf",
   "metadata": {},
   "source": [
    "**7.average purschase price**"
   ]
  },
  {
   "cell_type": "code",
   "execution_count": null,
   "id": "5babc75e-7f94-487b-bec8-a08ba782026e",
   "metadata": {},
   "outputs": [],
   "source": []
  },
  {
   "cell_type": "markdown",
   "id": "8fe28e5e-4b2b-43d2-973b-c7a459504416",
   "metadata": {},
   "source": [
    "**8.how many people have french 'fr' as their language**"
   ]
  },
  {
   "cell_type": "code",
   "execution_count": null,
   "id": "0289d986-5524-4d42-bc80-0b6d97b2289b",
   "metadata": {},
   "outputs": [],
   "source": []
  },
  {
   "cell_type": "markdown",
   "id": "f2057148-9df4-4c13-8e12-b5e330928cf8",
   "metadata": {},
   "source": [
    "**9.job title contains engineer**"
   ]
  },
  {
   "cell_type": "code",
   "execution_count": null,
   "id": "1ce5a283-9d8f-481d-b76c-8dd1e929a38a",
   "metadata": {},
   "outputs": [],
   "source": []
  },
  {
   "cell_type": "markdown",
   "id": "9abbae1c-7f48-4f6a-a8d5-c18ed2aea8c5",
   "metadata": {},
   "source": [
    "**10.find email of the person with the following ip address: 132.207.160.22**"
   ]
  },
  {
   "cell_type": "code",
   "execution_count": null,
   "id": "7e79b6bc-ef89-441f-bbd4-2f579739270b",
   "metadata": {},
   "outputs": [],
   "source": []
  }
 ],
 "metadata": {
  "kernelspec": {
   "display_name": "Python 3 (ipykernel)",
   "language": "python",
   "name": "python3"
  },
  "language_info": {
   "codemirror_mode": {
    "name": "ipython",
    "version": 3
   },
   "file_extension": ".py",
   "mimetype": "text/x-python",
   "name": "python",
   "nbconvert_exporter": "python",
   "pygments_lexer": "ipython3",
   "version": "3.13.3"
  }
 },
 "nbformat": 4,
 "nbformat_minor": 5
}
