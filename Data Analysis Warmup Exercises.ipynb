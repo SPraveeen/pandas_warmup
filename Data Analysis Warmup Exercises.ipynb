{
 "cells": [
  {
   "cell_type": "code",
   "execution_count": 3,
   "id": "132d09f9-1611-479d-92c1-4d59df4cf284",
   "metadata": {},
   "outputs": [
    {
     "name": "stdout",
     "output_type": "stream",
     "text": [
      "Collecting jupyter_contrib_nbextensions\n",
      "  Downloading jupyter_contrib_nbextensions-0.7.0.tar.gz (23.5 MB)\n",
      "     ---------------------------------------- 0.0/23.5 MB ? eta -:--:--\n",
      "     - -------------------------------------- 0.8/23.5 MB 5.4 MB/s eta 0:00:05\n",
      "     --- ------------------------------------ 2.1/23.5 MB 6.7 MB/s eta 0:00:04\n",
      "     ---- ----------------------------------- 2.9/23.5 MB 5.7 MB/s eta 0:00:04\n",
      "     ----- ---------------------------------- 3.4/23.5 MB 4.4 MB/s eta 0:00:05\n",
      "     ------ --------------------------------- 3.7/23.5 MB 4.1 MB/s eta 0:00:05\n",
      "     ------- -------------------------------- 4.2/23.5 MB 3.4 MB/s eta 0:00:06\n",
      "     ------- -------------------------------- 4.5/23.5 MB 3.1 MB/s eta 0:00:07\n",
      "     ------- -------------------------------- 4.5/23.5 MB 3.1 MB/s eta 0:00:07\n",
      "     -------- ------------------------------- 4.7/23.5 MB 2.8 MB/s eta 0:00:07\n",
      "     -------- ------------------------------- 5.0/23.5 MB 2.6 MB/s eta 0:00:08\n",
      "     -------- ------------------------------- 5.2/23.5 MB 2.4 MB/s eta 0:00:08\n",
      "     --------- ------------------------------ 5.5/23.5 MB 2.3 MB/s eta 0:00:08\n",
      "     --------- ------------------------------ 5.8/23.5 MB 2.2 MB/s eta 0:00:09\n",
      "     ---------- ----------------------------- 6.0/23.5 MB 2.1 MB/s eta 0:00:09\n",
      "     ---------- ----------------------------- 6.3/23.5 MB 2.0 MB/s eta 0:00:09\n",
      "     ----------- ---------------------------- 6.6/23.5 MB 2.0 MB/s eta 0:00:09\n",
      "     ----------- ---------------------------- 6.6/23.5 MB 2.0 MB/s eta 0:00:09\n",
      "     ----------- ---------------------------- 6.8/23.5 MB 1.9 MB/s eta 0:00:09\n",
      "     ------------ --------------------------- 7.1/23.5 MB 1.8 MB/s eta 0:00:10\n",
      "     ------------ --------------------------- 7.3/23.5 MB 1.8 MB/s eta 0:00:10\n",
      "     ------------ --------------------------- 7.6/23.5 MB 1.7 MB/s eta 0:00:10\n",
      "     ------------- -------------------------- 7.9/23.5 MB 1.7 MB/s eta 0:00:10\n",
      "     ------------- -------------------------- 8.1/23.5 MB 1.7 MB/s eta 0:00:10\n",
      "     ------------- -------------------------- 8.1/23.5 MB 1.7 MB/s eta 0:00:10\n",
      "     -------------- ------------------------- 8.4/23.5 MB 1.6 MB/s eta 0:00:10\n",
      "     -------------- ------------------------- 8.7/23.5 MB 1.6 MB/s eta 0:00:10\n",
      "     --------------- ------------------------ 8.9/23.5 MB 1.6 MB/s eta 0:00:10\n",
      "     --------------- ------------------------ 8.9/23.5 MB 1.6 MB/s eta 0:00:10\n",
      "     --------------- ------------------------ 9.2/23.5 MB 1.5 MB/s eta 0:00:10\n",
      "     --------------- ------------------------ 9.2/23.5 MB 1.5 MB/s eta 0:00:10\n",
      "     ---------------- ----------------------- 9.4/23.5 MB 1.5 MB/s eta 0:00:10\n",
      "     ---------------- ----------------------- 9.4/23.5 MB 1.5 MB/s eta 0:00:10\n",
      "     ---------------- ----------------------- 9.4/23.5 MB 1.5 MB/s eta 0:00:10\n",
      "     ---------------- ----------------------- 9.7/23.5 MB 1.4 MB/s eta 0:00:11\n",
      "     ---------------- ----------------------- 9.7/23.5 MB 1.4 MB/s eta 0:00:11\n",
      "     ---------------- ----------------------- 10.0/23.5 MB 1.3 MB/s eta 0:00:11\n",
      "     ---------------- ----------------------- 10.0/23.5 MB 1.3 MB/s eta 0:00:11\n",
      "     ----------------- ---------------------- 10.2/23.5 MB 1.3 MB/s eta 0:00:11\n",
      "     ----------------- ---------------------- 10.5/23.5 MB 1.3 MB/s eta 0:00:11\n",
      "     ------------------ --------------------- 10.7/23.5 MB 1.3 MB/s eta 0:00:10\n",
      "     ------------------ --------------------- 11.0/23.5 MB 1.3 MB/s eta 0:00:10\n",
      "     ------------------- -------------------- 11.3/23.5 MB 1.3 MB/s eta 0:00:10\n",
      "     ------------------- -------------------- 11.5/23.5 MB 1.3 MB/s eta 0:00:10\n",
      "     -------------------- ------------------- 11.8/23.5 MB 1.3 MB/s eta 0:00:10\n",
      "     -------------------- ------------------- 12.1/23.5 MB 1.3 MB/s eta 0:00:10\n",
      "     --------------------- ------------------ 12.3/23.5 MB 1.3 MB/s eta 0:00:09\n",
      "     --------------------- ------------------ 12.3/23.5 MB 1.3 MB/s eta 0:00:09\n",
      "     --------------------- ------------------ 12.6/23.5 MB 1.2 MB/s eta 0:00:09\n",
      "     --------------------- ------------------ 12.8/23.5 MB 1.2 MB/s eta 0:00:09\n",
      "     ---------------------- ----------------- 13.1/23.5 MB 1.2 MB/s eta 0:00:09\n",
      "     ---------------------- ----------------- 13.1/23.5 MB 1.2 MB/s eta 0:00:09\n",
      "     ---------------------- ----------------- 13.4/23.5 MB 1.2 MB/s eta 0:00:09\n",
      "     ---------------------- ----------------- 13.4/23.5 MB 1.2 MB/s eta 0:00:09\n",
      "     ---------------------- ----------------- 13.4/23.5 MB 1.2 MB/s eta 0:00:09\n",
      "     ----------------------- ---------------- 13.6/23.5 MB 1.2 MB/s eta 0:00:09\n",
      "     ----------------------- ---------------- 13.6/23.5 MB 1.2 MB/s eta 0:00:09\n",
      "     ----------------------- ---------------- 13.9/23.5 MB 1.1 MB/s eta 0:00:09\n",
      "     ----------------------- ---------------- 13.9/23.5 MB 1.1 MB/s eta 0:00:09\n",
      "     ------------------------ --------------- 14.2/23.5 MB 1.1 MB/s eta 0:00:09\n",
      "     ------------------------ --------------- 14.2/23.5 MB 1.1 MB/s eta 0:00:09\n",
      "     ------------------------ --------------- 14.4/23.5 MB 1.1 MB/s eta 0:00:09\n",
      "     ------------------------- -------------- 14.7/23.5 MB 1.1 MB/s eta 0:00:08\n",
      "     ------------------------- -------------- 14.7/23.5 MB 1.1 MB/s eta 0:00:08\n",
      "     ------------------------- -------------- 14.9/23.5 MB 1.1 MB/s eta 0:00:08\n",
      "     ------------------------- -------------- 15.2/23.5 MB 1.1 MB/s eta 0:00:08\n",
      "     ------------------------- -------------- 15.2/23.5 MB 1.1 MB/s eta 0:00:08\n",
      "     -------------------------- ------------- 15.5/23.5 MB 1.1 MB/s eta 0:00:08\n",
      "     -------------------------- ------------- 15.7/23.5 MB 1.1 MB/s eta 0:00:08\n",
      "     -------------------------- ------------- 15.7/23.5 MB 1.1 MB/s eta 0:00:08\n",
      "     -------------------------- ------------- 15.7/23.5 MB 1.1 MB/s eta 0:00:08\n",
      "     -------------------------- ------------- 15.7/23.5 MB 1.1 MB/s eta 0:00:08\n",
      "     -------------------------- ------------- 15.7/23.5 MB 1.1 MB/s eta 0:00:08\n",
      "     --------------------------- ------------ 16.0/23.5 MB 1.0 MB/s eta 0:00:08\n",
      "     --------------------------- ------------ 16.0/23.5 MB 1.0 MB/s eta 0:00:08\n",
      "     --------------------------- ------------ 16.3/23.5 MB 1.0 MB/s eta 0:00:08\n",
      "     --------------------------- ------------ 16.3/23.5 MB 1.0 MB/s eta 0:00:08\n",
      "     ---------------------------- ----------- 16.5/23.5 MB 1.0 MB/s eta 0:00:07\n",
      "     ---------------------------- ----------- 16.5/23.5 MB 1.0 MB/s eta 0:00:07\n",
      "     ---------------------------- ----------- 16.8/23.5 MB 1.0 MB/s eta 0:00:07\n",
      "     --------------------------- ---------- 17.0/23.5 MB 999.2 kB/s eta 0:00:07\n",
      "     --------------------------- ---------- 17.0/23.5 MB 999.2 kB/s eta 0:00:07\n",
      "     ---------------------------- --------- 17.3/23.5 MB 995.4 kB/s eta 0:00:07\n",
      "     ---------------------------- --------- 17.3/23.5 MB 995.4 kB/s eta 0:00:07\n",
      "     ---------------------------- --------- 17.6/23.5 MB 987.8 kB/s eta 0:00:06\n",
      "     ---------------------------- --------- 17.8/23.5 MB 989.0 kB/s eta 0:00:06\n",
      "     ----------------------------- -------- 18.1/23.5 MB 992.7 kB/s eta 0:00:06\n",
      "     ----------------------------- -------- 18.4/23.5 MB 996.6 kB/s eta 0:00:06\n",
      "     ------------------------------- -------- 18.6/23.5 MB 1.0 MB/s eta 0:00:05\n",
      "     -------------------------------- ------- 18.9/23.5 MB 1.0 MB/s eta 0:00:05\n",
      "     -------------------------------- ------- 19.1/23.5 MB 1.0 MB/s eta 0:00:05\n",
      "     --------------------------------- ------ 19.4/23.5 MB 1.0 MB/s eta 0:00:05\n",
      "     --------------------------------- ------ 19.9/23.5 MB 1.0 MB/s eta 0:00:04\n",
      "     ---------------------------------- ----- 20.2/23.5 MB 1.0 MB/s eta 0:00:04\n",
      "     ---------------------------------- ----- 20.4/23.5 MB 1.0 MB/s eta 0:00:03\n",
      "     ----------------------------------- ---- 21.0/23.5 MB 1.0 MB/s eta 0:00:03\n",
      "     ------------------------------------ --- 21.2/23.5 MB 1.0 MB/s eta 0:00:03\n",
      "     ------------------------------------ --- 21.5/23.5 MB 1.0 MB/s eta 0:00:02\n",
      "     ------------------------------------- -- 21.8/23.5 MB 1.1 MB/s eta 0:00:02\n",
      "     ------------------------------------- -- 22.3/23.5 MB 1.1 MB/s eta 0:00:02\n",
      "     -------------------------------------- - 22.5/23.5 MB 1.1 MB/s eta 0:00:01\n",
      "     -------------------------------------- - 22.8/23.5 MB 1.1 MB/s eta 0:00:01\n",
      "     ---------------------------------------  23.3/23.5 MB 1.1 MB/s eta 0:00:01\n",
      "     ---------------------------------------- 23.5/23.5 MB 1.1 MB/s eta 0:00:00\n",
      "  Installing build dependencies: started\n",
      "  Installing build dependencies: finished with status 'done'\n",
      "  Getting requirements to build wheel: started\n",
      "  Getting requirements to build wheel: finished with status 'done'\n",
      "  Preparing metadata (pyproject.toml): started\n",
      "  Preparing metadata (pyproject.toml): finished with status 'done'\n",
      "Collecting ipython_genutils (from jupyter_contrib_nbextensions)\n",
      "  Downloading ipython_genutils-0.2.0-py2.py3-none-any.whl.metadata (755 bytes)\n",
      "Collecting jupyter_contrib_core>=0.3.3 (from jupyter_contrib_nbextensions)\n",
      "  Downloading jupyter_contrib_core-0.4.2.tar.gz (17 kB)\n",
      "  Installing build dependencies: started\n",
      "  Installing build dependencies: finished with status 'done'\n",
      "  Getting requirements to build wheel: started\n",
      "  Getting requirements to build wheel: finished with status 'done'\n",
      "  Preparing metadata (pyproject.toml): started\n",
      "  Preparing metadata (pyproject.toml): finished with status 'done'\n",
      "Requirement already satisfied: jupyter_core in c:\\users\\prave\\appdata\\roaming\\python\\python313\\site-packages (from jupyter_contrib_nbextensions) (5.8.0)\n",
      "Collecting jupyter_highlight_selected_word>=0.1.1 (from jupyter_contrib_nbextensions)\n",
      "  Downloading jupyter_highlight_selected_word-0.2.0-py2.py3-none-any.whl.metadata (730 bytes)\n",
      "Collecting jupyter_nbextensions_configurator>=0.4.0 (from jupyter_contrib_nbextensions)\n",
      "  Downloading jupyter_nbextensions_configurator-0.6.4-py2.py3-none-any.whl.metadata (1.8 kB)\n",
      "Requirement already satisfied: nbconvert>=6.0 in c:\\users\\prave\\appdata\\local\\programs\\python\\python313\\lib\\site-packages (from jupyter_contrib_nbextensions) (7.16.6)\n",
      "Requirement already satisfied: notebook>=6.0 in c:\\users\\prave\\appdata\\local\\programs\\python\\python313\\lib\\site-packages (from jupyter_contrib_nbextensions) (7.4.4)\n",
      "Requirement already satisfied: tornado in c:\\users\\prave\\appdata\\roaming\\python\\python313\\site-packages (from jupyter_contrib_nbextensions) (6.5.1)\n",
      "Requirement already satisfied: traitlets>=4.1 in c:\\users\\prave\\appdata\\roaming\\python\\python313\\site-packages (from jupyter_contrib_nbextensions) (5.14.3)\n",
      "Requirement already satisfied: lxml in c:\\users\\prave\\appdata\\local\\programs\\python\\python313\\lib\\site-packages (from jupyter_contrib_nbextensions) (6.0.0)\n",
      "Requirement already satisfied: setuptools in c:\\users\\prave\\appdata\\local\\programs\\python\\python313\\lib\\site-packages (from jupyter_contrib_core>=0.3.3->jupyter_contrib_nbextensions) (80.9.0)\n",
      "Requirement already satisfied: jupyter-server in c:\\users\\prave\\appdata\\local\\programs\\python\\python313\\lib\\site-packages (from jupyter_nbextensions_configurator>=0.4.0->jupyter_contrib_nbextensions) (2.16.0)\n",
      "Requirement already satisfied: pyyaml in c:\\users\\prave\\appdata\\local\\programs\\python\\python313\\lib\\site-packages (from jupyter_nbextensions_configurator>=0.4.0->jupyter_contrib_nbextensions) (6.0.2)\n",
      "Requirement already satisfied: beautifulsoup4 in c:\\users\\prave\\appdata\\local\\programs\\python\\python313\\lib\\site-packages (from nbconvert>=6.0->jupyter_contrib_nbextensions) (4.13.4)\n",
      "Requirement already satisfied: bleach!=5.0.0 in c:\\users\\prave\\appdata\\local\\programs\\python\\python313\\lib\\site-packages (from bleach[css]!=5.0.0->nbconvert>=6.0->jupyter_contrib_nbextensions) (6.2.0)\n",
      "Requirement already satisfied: defusedxml in c:\\users\\prave\\appdata\\local\\programs\\python\\python313\\lib\\site-packages (from nbconvert>=6.0->jupyter_contrib_nbextensions) (0.7.1)\n",
      "Requirement already satisfied: jinja2>=3.0 in c:\\users\\prave\\appdata\\local\\programs\\python\\python313\\lib\\site-packages (from nbconvert>=6.0->jupyter_contrib_nbextensions) (3.1.6)\n",
      "Requirement already satisfied: jupyterlab-pygments in c:\\users\\prave\\appdata\\local\\programs\\python\\python313\\lib\\site-packages (from nbconvert>=6.0->jupyter_contrib_nbextensions) (0.3.0)\n",
      "Requirement already satisfied: markupsafe>=2.0 in c:\\users\\prave\\appdata\\local\\programs\\python\\python313\\lib\\site-packages (from nbconvert>=6.0->jupyter_contrib_nbextensions) (2.1.5)\n",
      "Requirement already satisfied: mistune<4,>=2.0.3 in c:\\users\\prave\\appdata\\local\\programs\\python\\python313\\lib\\site-packages (from nbconvert>=6.0->jupyter_contrib_nbextensions) (3.1.3)\n",
      "Requirement already satisfied: nbclient>=0.5.0 in c:\\users\\prave\\appdata\\local\\programs\\python\\python313\\lib\\site-packages (from nbconvert>=6.0->jupyter_contrib_nbextensions) (0.10.2)\n",
      "Requirement already satisfied: nbformat>=5.7 in c:\\users\\prave\\appdata\\local\\programs\\python\\python313\\lib\\site-packages (from nbconvert>=6.0->jupyter_contrib_nbextensions) (5.10.4)\n",
      "Requirement already satisfied: packaging in c:\\users\\prave\\appdata\\roaming\\python\\python313\\site-packages (from nbconvert>=6.0->jupyter_contrib_nbextensions) (25.0)\n",
      "Requirement already satisfied: pandocfilters>=1.4.1 in c:\\users\\prave\\appdata\\local\\programs\\python\\python313\\lib\\site-packages (from nbconvert>=6.0->jupyter_contrib_nbextensions) (1.5.1)\n",
      "Requirement already satisfied: pygments>=2.4.1 in c:\\users\\prave\\appdata\\roaming\\python\\python313\\site-packages (from nbconvert>=6.0->jupyter_contrib_nbextensions) (2.19.1)\n",
      "Requirement already satisfied: platformdirs>=2.5 in c:\\users\\prave\\appdata\\roaming\\python\\python313\\site-packages (from jupyter_core->jupyter_contrib_nbextensions) (4.3.8)\n",
      "Requirement already satisfied: pywin32>=300 in c:\\users\\prave\\appdata\\roaming\\python\\python313\\site-packages (from jupyter_core->jupyter_contrib_nbextensions) (310)\n",
      "Requirement already satisfied: jupyterlab-server<3,>=2.27.1 in c:\\users\\prave\\appdata\\local\\programs\\python\\python313\\lib\\site-packages (from notebook>=6.0->jupyter_contrib_nbextensions) (2.27.3)\n",
      "Requirement already satisfied: jupyterlab<4.5,>=4.4.4 in c:\\users\\prave\\appdata\\local\\programs\\python\\python313\\lib\\site-packages (from notebook>=6.0->jupyter_contrib_nbextensions) (4.4.4)\n",
      "Requirement already satisfied: notebook-shim<0.3,>=0.2 in c:\\users\\prave\\appdata\\local\\programs\\python\\python313\\lib\\site-packages (from notebook>=6.0->jupyter_contrib_nbextensions) (0.2.4)\n",
      "Requirement already satisfied: webencodings in c:\\users\\prave\\appdata\\local\\programs\\python\\python313\\lib\\site-packages (from bleach!=5.0.0->bleach[css]!=5.0.0->nbconvert>=6.0->jupyter_contrib_nbextensions) (0.5.1)\n",
      "Requirement already satisfied: tinycss2<1.5,>=1.1.0 in c:\\users\\prave\\appdata\\local\\programs\\python\\python313\\lib\\site-packages (from bleach[css]!=5.0.0->nbconvert>=6.0->jupyter_contrib_nbextensions) (1.4.0)\n",
      "Requirement already satisfied: anyio>=3.1.0 in c:\\users\\prave\\appdata\\local\\programs\\python\\python313\\lib\\site-packages (from jupyter-server->jupyter_nbextensions_configurator>=0.4.0->jupyter_contrib_nbextensions) (4.9.0)\n",
      "Requirement already satisfied: argon2-cffi>=21.1 in c:\\users\\prave\\appdata\\local\\programs\\python\\python313\\lib\\site-packages (from jupyter-server->jupyter_nbextensions_configurator>=0.4.0->jupyter_contrib_nbextensions) (25.1.0)\n",
      "Requirement already satisfied: jupyter-client>=7.4.4 in c:\\users\\prave\\appdata\\roaming\\python\\python313\\site-packages (from jupyter-server->jupyter_nbextensions_configurator>=0.4.0->jupyter_contrib_nbextensions) (8.6.3)\n",
      "Requirement already satisfied: jupyter-events>=0.11.0 in c:\\users\\prave\\appdata\\local\\programs\\python\\python313\\lib\\site-packages (from jupyter-server->jupyter_nbextensions_configurator>=0.4.0->jupyter_contrib_nbextensions) (0.12.0)\n",
      "Requirement already satisfied: jupyter-server-terminals>=0.4.4 in c:\\users\\prave\\appdata\\local\\programs\\python\\python313\\lib\\site-packages (from jupyter-server->jupyter_nbextensions_configurator>=0.4.0->jupyter_contrib_nbextensions) (0.5.3)\n",
      "Requirement already satisfied: overrides>=5.0 in c:\\users\\prave\\appdata\\local\\programs\\python\\python313\\lib\\site-packages (from jupyter-server->jupyter_nbextensions_configurator>=0.4.0->jupyter_contrib_nbextensions) (7.7.0)\n",
      "Requirement already satisfied: prometheus-client>=0.9 in c:\\users\\prave\\appdata\\local\\programs\\python\\python313\\lib\\site-packages (from jupyter-server->jupyter_nbextensions_configurator>=0.4.0->jupyter_contrib_nbextensions) (0.22.1)\n",
      "Requirement already satisfied: pywinpty>=2.0.1 in c:\\users\\prave\\appdata\\local\\programs\\python\\python313\\lib\\site-packages (from jupyter-server->jupyter_nbextensions_configurator>=0.4.0->jupyter_contrib_nbextensions) (2.0.15)\n",
      "Requirement already satisfied: pyzmq>=24 in c:\\users\\prave\\appdata\\roaming\\python\\python313\\site-packages (from jupyter-server->jupyter_nbextensions_configurator>=0.4.0->jupyter_contrib_nbextensions) (26.4.0)\n",
      "Requirement already satisfied: send2trash>=1.8.2 in c:\\users\\prave\\appdata\\local\\programs\\python\\python313\\lib\\site-packages (from jupyter-server->jupyter_nbextensions_configurator>=0.4.0->jupyter_contrib_nbextensions) (1.8.3)\n",
      "Requirement already satisfied: terminado>=0.8.3 in c:\\users\\prave\\appdata\\local\\programs\\python\\python313\\lib\\site-packages (from jupyter-server->jupyter_nbextensions_configurator>=0.4.0->jupyter_contrib_nbextensions) (0.18.1)\n",
      "Requirement already satisfied: websocket-client>=1.7 in c:\\users\\prave\\appdata\\local\\programs\\python\\python313\\lib\\site-packages (from jupyter-server->jupyter_nbextensions_configurator>=0.4.0->jupyter_contrib_nbextensions) (1.8.0)\n",
      "Requirement already satisfied: async-lru>=1.0.0 in c:\\users\\prave\\appdata\\local\\programs\\python\\python313\\lib\\site-packages (from jupyterlab<4.5,>=4.4.4->notebook>=6.0->jupyter_contrib_nbextensions) (2.0.5)\n",
      "Requirement already satisfied: httpx>=0.25.0 in c:\\users\\prave\\appdata\\local\\programs\\python\\python313\\lib\\site-packages (from jupyterlab<4.5,>=4.4.4->notebook>=6.0->jupyter_contrib_nbextensions) (0.28.1)\n",
      "Requirement already satisfied: ipykernel>=6.5.0 in c:\\users\\prave\\appdata\\roaming\\python\\python313\\site-packages (from jupyterlab<4.5,>=4.4.4->notebook>=6.0->jupyter_contrib_nbextensions) (6.29.5)\n",
      "Requirement already satisfied: jupyter-lsp>=2.0.0 in c:\\users\\prave\\appdata\\local\\programs\\python\\python313\\lib\\site-packages (from jupyterlab<4.5,>=4.4.4->notebook>=6.0->jupyter_contrib_nbextensions) (2.2.5)\n",
      "Requirement already satisfied: babel>=2.10 in c:\\users\\prave\\appdata\\local\\programs\\python\\python313\\lib\\site-packages (from jupyterlab-server<3,>=2.27.1->notebook>=6.0->jupyter_contrib_nbextensions) (2.17.0)\n",
      "Requirement already satisfied: json5>=0.9.0 in c:\\users\\prave\\appdata\\local\\programs\\python\\python313\\lib\\site-packages (from jupyterlab-server<3,>=2.27.1->notebook>=6.0->jupyter_contrib_nbextensions) (0.12.0)\n",
      "Requirement already satisfied: jsonschema>=4.18.0 in c:\\users\\prave\\appdata\\local\\programs\\python\\python313\\lib\\site-packages (from jupyterlab-server<3,>=2.27.1->notebook>=6.0->jupyter_contrib_nbextensions) (4.24.0)\n",
      "Requirement already satisfied: requests>=2.31 in c:\\users\\prave\\appdata\\local\\programs\\python\\python313\\lib\\site-packages (from jupyterlab-server<3,>=2.27.1->notebook>=6.0->jupyter_contrib_nbextensions) (2.32.3)\n",
      "Requirement already satisfied: fastjsonschema>=2.15 in c:\\users\\prave\\appdata\\local\\programs\\python\\python313\\lib\\site-packages (from nbformat>=5.7->nbconvert>=6.0->jupyter_contrib_nbextensions) (2.21.1)\n",
      "Requirement already satisfied: soupsieve>1.2 in c:\\users\\prave\\appdata\\local\\programs\\python\\python313\\lib\\site-packages (from beautifulsoup4->nbconvert>=6.0->jupyter_contrib_nbextensions) (2.7)\n",
      "Requirement already satisfied: typing-extensions>=4.0.0 in c:\\users\\prave\\appdata\\local\\programs\\python\\python313\\lib\\site-packages (from beautifulsoup4->nbconvert>=6.0->jupyter_contrib_nbextensions) (4.13.2)\n",
      "Requirement already satisfied: idna>=2.8 in c:\\users\\prave\\appdata\\local\\programs\\python\\python313\\lib\\site-packages (from anyio>=3.1.0->jupyter-server->jupyter_nbextensions_configurator>=0.4.0->jupyter_contrib_nbextensions) (3.7)\n",
      "Requirement already satisfied: sniffio>=1.1 in c:\\users\\prave\\appdata\\local\\programs\\python\\python313\\lib\\site-packages (from anyio>=3.1.0->jupyter-server->jupyter_nbextensions_configurator>=0.4.0->jupyter_contrib_nbextensions) (1.3.1)\n",
      "Requirement already satisfied: argon2-cffi-bindings in c:\\users\\prave\\appdata\\local\\programs\\python\\python313\\lib\\site-packages (from argon2-cffi>=21.1->jupyter-server->jupyter_nbextensions_configurator>=0.4.0->jupyter_contrib_nbextensions) (21.2.0)\n",
      "Requirement already satisfied: certifi in c:\\users\\prave\\appdata\\local\\programs\\python\\python313\\lib\\site-packages (from httpx>=0.25.0->jupyterlab<4.5,>=4.4.4->notebook>=6.0->jupyter_contrib_nbextensions) (2024.7.4)\n",
      "Requirement already satisfied: httpcore==1.* in c:\\users\\prave\\appdata\\local\\programs\\python\\python313\\lib\\site-packages (from httpx>=0.25.0->jupyterlab<4.5,>=4.4.4->notebook>=6.0->jupyter_contrib_nbextensions) (1.0.9)\n",
      "Requirement already satisfied: h11>=0.16 in c:\\users\\prave\\appdata\\local\\programs\\python\\python313\\lib\\site-packages (from httpcore==1.*->httpx>=0.25.0->jupyterlab<4.5,>=4.4.4->notebook>=6.0->jupyter_contrib_nbextensions) (0.16.0)\n",
      "Requirement already satisfied: comm>=0.1.1 in c:\\users\\prave\\appdata\\roaming\\python\\python313\\site-packages (from ipykernel>=6.5.0->jupyterlab<4.5,>=4.4.4->notebook>=6.0->jupyter_contrib_nbextensions) (0.2.2)\n",
      "Requirement already satisfied: debugpy>=1.6.5 in c:\\users\\prave\\appdata\\roaming\\python\\python313\\site-packages (from ipykernel>=6.5.0->jupyterlab<4.5,>=4.4.4->notebook>=6.0->jupyter_contrib_nbextensions) (1.8.14)\n",
      "Requirement already satisfied: ipython>=7.23.1 in c:\\users\\prave\\appdata\\roaming\\python\\python313\\site-packages (from ipykernel>=6.5.0->jupyterlab<4.5,>=4.4.4->notebook>=6.0->jupyter_contrib_nbextensions) (9.2.0)\n",
      "Requirement already satisfied: matplotlib-inline>=0.1 in c:\\users\\prave\\appdata\\roaming\\python\\python313\\site-packages (from ipykernel>=6.5.0->jupyterlab<4.5,>=4.4.4->notebook>=6.0->jupyter_contrib_nbextensions) (0.1.7)\n",
      "Requirement already satisfied: nest-asyncio in c:\\users\\prave\\appdata\\roaming\\python\\python313\\site-packages (from ipykernel>=6.5.0->jupyterlab<4.5,>=4.4.4->notebook>=6.0->jupyter_contrib_nbextensions) (1.6.0)\n",
      "Requirement already satisfied: psutil in c:\\users\\prave\\appdata\\roaming\\python\\python313\\site-packages (from ipykernel>=6.5.0->jupyterlab<4.5,>=4.4.4->notebook>=6.0->jupyter_contrib_nbextensions) (7.0.0)\n",
      "Requirement already satisfied: attrs>=22.2.0 in c:\\users\\prave\\appdata\\local\\programs\\python\\python313\\lib\\site-packages (from jsonschema>=4.18.0->jupyterlab-server<3,>=2.27.1->notebook>=6.0->jupyter_contrib_nbextensions) (25.3.0)\n",
      "Requirement already satisfied: jsonschema-specifications>=2023.03.6 in c:\\users\\prave\\appdata\\local\\programs\\python\\python313\\lib\\site-packages (from jsonschema>=4.18.0->jupyterlab-server<3,>=2.27.1->notebook>=6.0->jupyter_contrib_nbextensions) (2025.4.1)\n",
      "Requirement already satisfied: referencing>=0.28.4 in c:\\users\\prave\\appdata\\local\\programs\\python\\python313\\lib\\site-packages (from jsonschema>=4.18.0->jupyterlab-server<3,>=2.27.1->notebook>=6.0->jupyter_contrib_nbextensions) (0.36.2)\n",
      "Requirement already satisfied: rpds-py>=0.7.1 in c:\\users\\prave\\appdata\\local\\programs\\python\\python313\\lib\\site-packages (from jsonschema>=4.18.0->jupyterlab-server<3,>=2.27.1->notebook>=6.0->jupyter_contrib_nbextensions) (0.25.1)\n",
      "Requirement already satisfied: python-dateutil>=2.8.2 in c:\\users\\prave\\appdata\\roaming\\python\\python313\\site-packages (from jupyter-client>=7.4.4->jupyter-server->jupyter_nbextensions_configurator>=0.4.0->jupyter_contrib_nbextensions) (2.9.0.post0)\n",
      "Requirement already satisfied: python-json-logger>=2.0.4 in c:\\users\\prave\\appdata\\local\\programs\\python\\python313\\lib\\site-packages (from jupyter-events>=0.11.0->jupyter-server->jupyter_nbextensions_configurator>=0.4.0->jupyter_contrib_nbextensions) (3.3.0)\n",
      "Requirement already satisfied: rfc3339-validator in c:\\users\\prave\\appdata\\local\\programs\\python\\python313\\lib\\site-packages (from jupyter-events>=0.11.0->jupyter-server->jupyter_nbextensions_configurator>=0.4.0->jupyter_contrib_nbextensions) (0.1.4)\n",
      "Requirement already satisfied: rfc3986-validator>=0.1.1 in c:\\users\\prave\\appdata\\local\\programs\\python\\python313\\lib\\site-packages (from jupyter-events>=0.11.0->jupyter-server->jupyter_nbextensions_configurator>=0.4.0->jupyter_contrib_nbextensions) (0.1.1)\n",
      "Requirement already satisfied: charset-normalizer<4,>=2 in c:\\users\\prave\\appdata\\local\\programs\\python\\python313\\lib\\site-packages (from requests>=2.31->jupyterlab-server<3,>=2.27.1->notebook>=6.0->jupyter_contrib_nbextensions) (3.3.2)\n",
      "Requirement already satisfied: urllib3<3,>=1.21.1 in c:\\users\\prave\\appdata\\local\\programs\\python\\python313\\lib\\site-packages (from requests>=2.31->jupyterlab-server<3,>=2.27.1->notebook>=6.0->jupyter_contrib_nbextensions) (2.2.2)\n",
      "Requirement already satisfied: colorama in c:\\users\\prave\\appdata\\local\\programs\\python\\python313\\lib\\site-packages (from ipython>=7.23.1->ipykernel>=6.5.0->jupyterlab<4.5,>=4.4.4->notebook>=6.0->jupyter_contrib_nbextensions) (0.4.6)\n",
      "Requirement already satisfied: decorator in c:\\users\\prave\\appdata\\roaming\\python\\python313\\site-packages (from ipython>=7.23.1->ipykernel>=6.5.0->jupyterlab<4.5,>=4.4.4->notebook>=6.0->jupyter_contrib_nbextensions) (5.2.1)\n",
      "Requirement already satisfied: ipython-pygments-lexers in c:\\users\\prave\\appdata\\roaming\\python\\python313\\site-packages (from ipython>=7.23.1->ipykernel>=6.5.0->jupyterlab<4.5,>=4.4.4->notebook>=6.0->jupyter_contrib_nbextensions) (1.1.1)\n",
      "Requirement already satisfied: jedi>=0.16 in c:\\users\\prave\\appdata\\roaming\\python\\python313\\site-packages (from ipython>=7.23.1->ipykernel>=6.5.0->jupyterlab<4.5,>=4.4.4->notebook>=6.0->jupyter_contrib_nbextensions) (0.19.2)\n",
      "Requirement already satisfied: prompt_toolkit<3.1.0,>=3.0.41 in c:\\users\\prave\\appdata\\roaming\\python\\python313\\site-packages (from ipython>=7.23.1->ipykernel>=6.5.0->jupyterlab<4.5,>=4.4.4->notebook>=6.0->jupyter_contrib_nbextensions) (3.0.51)\n",
      "Requirement already satisfied: stack_data in c:\\users\\prave\\appdata\\roaming\\python\\python313\\site-packages (from ipython>=7.23.1->ipykernel>=6.5.0->jupyterlab<4.5,>=4.4.4->notebook>=6.0->jupyter_contrib_nbextensions) (0.6.3)\n",
      "Requirement already satisfied: fqdn in c:\\users\\prave\\appdata\\local\\programs\\python\\python313\\lib\\site-packages (from jsonschema[format-nongpl]>=4.18.0->jupyter-events>=0.11.0->jupyter-server->jupyter_nbextensions_configurator>=0.4.0->jupyter_contrib_nbextensions) (1.5.1)\n",
      "Requirement already satisfied: isoduration in c:\\users\\prave\\appdata\\local\\programs\\python\\python313\\lib\\site-packages (from jsonschema[format-nongpl]>=4.18.0->jupyter-events>=0.11.0->jupyter-server->jupyter_nbextensions_configurator>=0.4.0->jupyter_contrib_nbextensions) (20.11.0)\n",
      "Requirement already satisfied: jsonpointer>1.13 in c:\\users\\prave\\appdata\\local\\programs\\python\\python313\\lib\\site-packages (from jsonschema[format-nongpl]>=4.18.0->jupyter-events>=0.11.0->jupyter-server->jupyter_nbextensions_configurator>=0.4.0->jupyter_contrib_nbextensions) (3.0.0)\n",
      "Requirement already satisfied: uri-template in c:\\users\\prave\\appdata\\local\\programs\\python\\python313\\lib\\site-packages (from jsonschema[format-nongpl]>=4.18.0->jupyter-events>=0.11.0->jupyter-server->jupyter_nbextensions_configurator>=0.4.0->jupyter_contrib_nbextensions) (1.3.0)\n",
      "Requirement already satisfied: webcolors>=24.6.0 in c:\\users\\prave\\appdata\\local\\programs\\python\\python313\\lib\\site-packages (from jsonschema[format-nongpl]>=4.18.0->jupyter-events>=0.11.0->jupyter-server->jupyter_nbextensions_configurator>=0.4.0->jupyter_contrib_nbextensions) (24.11.1)\n",
      "Requirement already satisfied: six>=1.5 in c:\\users\\prave\\appdata\\roaming\\python\\python313\\site-packages (from python-dateutil>=2.8.2->jupyter-client>=7.4.4->jupyter-server->jupyter_nbextensions_configurator>=0.4.0->jupyter_contrib_nbextensions) (1.17.0)\n",
      "Requirement already satisfied: cffi>=1.0.1 in c:\\users\\prave\\appdata\\local\\programs\\python\\python313\\lib\\site-packages (from argon2-cffi-bindings->argon2-cffi>=21.1->jupyter-server->jupyter_nbextensions_configurator>=0.4.0->jupyter_contrib_nbextensions) (1.17.1)\n",
      "Requirement already satisfied: pycparser in c:\\users\\prave\\appdata\\local\\programs\\python\\python313\\lib\\site-packages (from cffi>=1.0.1->argon2-cffi-bindings->argon2-cffi>=21.1->jupyter-server->jupyter_nbextensions_configurator>=0.4.0->jupyter_contrib_nbextensions) (2.22)\n",
      "Requirement already satisfied: parso<0.9.0,>=0.8.4 in c:\\users\\prave\\appdata\\roaming\\python\\python313\\site-packages (from jedi>=0.16->ipython>=7.23.1->ipykernel>=6.5.0->jupyterlab<4.5,>=4.4.4->notebook>=6.0->jupyter_contrib_nbextensions) (0.8.4)\n",
      "Requirement already satisfied: wcwidth in c:\\users\\prave\\appdata\\roaming\\python\\python313\\site-packages (from prompt_toolkit<3.1.0,>=3.0.41->ipython>=7.23.1->ipykernel>=6.5.0->jupyterlab<4.5,>=4.4.4->notebook>=6.0->jupyter_contrib_nbextensions) (0.2.13)\n",
      "Requirement already satisfied: arrow>=0.15.0 in c:\\users\\prave\\appdata\\local\\programs\\python\\python313\\lib\\site-packages (from isoduration->jsonschema[format-nongpl]>=4.18.0->jupyter-events>=0.11.0->jupyter-server->jupyter_nbextensions_configurator>=0.4.0->jupyter_contrib_nbextensions) (1.3.0)\n",
      "Requirement already satisfied: executing>=1.2.0 in c:\\users\\prave\\appdata\\roaming\\python\\python313\\site-packages (from stack_data->ipython>=7.23.1->ipykernel>=6.5.0->jupyterlab<4.5,>=4.4.4->notebook>=6.0->jupyter_contrib_nbextensions) (2.2.0)\n",
      "Requirement already satisfied: asttokens>=2.1.0 in c:\\users\\prave\\appdata\\roaming\\python\\python313\\site-packages (from stack_data->ipython>=7.23.1->ipykernel>=6.5.0->jupyterlab<4.5,>=4.4.4->notebook>=6.0->jupyter_contrib_nbextensions) (3.0.0)\n",
      "Requirement already satisfied: pure-eval in c:\\users\\prave\\appdata\\roaming\\python\\python313\\site-packages (from stack_data->ipython>=7.23.1->ipykernel>=6.5.0->jupyterlab<4.5,>=4.4.4->notebook>=6.0->jupyter_contrib_nbextensions) (0.2.3)\n",
      "Requirement already satisfied: types-python-dateutil>=2.8.10 in c:\\users\\prave\\appdata\\local\\programs\\python\\python313\\lib\\site-packages (from arrow>=0.15.0->isoduration->jsonschema[format-nongpl]>=4.18.0->jupyter-events>=0.11.0->jupyter-server->jupyter_nbextensions_configurator>=0.4.0->jupyter_contrib_nbextensions) (2.9.0.20250516)\n",
      "Downloading jupyter_highlight_selected_word-0.2.0-py2.py3-none-any.whl (11 kB)\n",
      "Downloading jupyter_nbextensions_configurator-0.6.4-py2.py3-none-any.whl (466 kB)\n",
      "Downloading ipython_genutils-0.2.0-py2.py3-none-any.whl (26 kB)\n",
      "Building wheels for collected packages: jupyter_contrib_nbextensions, jupyter_contrib_core\n",
      "  Building wheel for jupyter_contrib_nbextensions (pyproject.toml): started\n",
      "  Building wheel for jupyter_contrib_nbextensions (pyproject.toml): finished with status 'done'\n",
      "  Created wheel for jupyter_contrib_nbextensions: filename=jupyter_contrib_nbextensions-0.7.0-py2.py3-none-any.whl size=23428862 sha256=ce31426aee09f044051b1c8dfcdb8bbf0b2ad58bf44cf0cff1057b38859c2d15\n",
      "  Stored in directory: c:\\users\\prave\\appdata\\local\\pip\\cache\\wheels\\d9\\79\\80\\be70fb5a8ce193c55b0238155c4c9122d87c96d93babb03204\n",
      "  Building wheel for jupyter_contrib_core (pyproject.toml): started\n",
      "  Building wheel for jupyter_contrib_core (pyproject.toml): finished with status 'done'\n",
      "  Created wheel for jupyter_contrib_core: filename=jupyter_contrib_core-0.4.2-py2.py3-none-any.whl size=17589 sha256=1b50494d94172d1069bf187555b691aae416486dccd716203dd8db62e7b3e8de\n",
      "  Stored in directory: c:\\users\\prave\\appdata\\local\\pip\\cache\\wheels\\c6\\b5\\9a\\e53b3fc244703676b874e9be46dc2f9c42d7dcc4792b6716f2\n",
      "Successfully built jupyter_contrib_nbextensions jupyter_contrib_core\n",
      "Installing collected packages: jupyter_highlight_selected_word, ipython_genutils, jupyter_contrib_core, jupyter_nbextensions_configurator, jupyter_contrib_nbextensions\n",
      "Successfully installed ipython_genutils-0.2.0 jupyter_contrib_core-0.4.2 jupyter_contrib_nbextensions-0.7.0 jupyter_highlight_selected_word-0.2.0 jupyter_nbextensions_configurator-0.6.4\n",
      "Note: you may need to restart the kernel to use updated packages.\n"
     ]
    },
    {
     "name": "stderr",
     "output_type": "stream",
     "text": [
      "\n",
      "[notice] A new release of pip is available: 25.0.1 -> 25.1.1\n",
      "[notice] To update, run: python.exe -m pip install --upgrade pip\n"
     ]
    }
   ],
   "source": [
    "pip install jupyter_contrib_nbextensions"
   ]
  },
  {
   "cell_type": "code",
   "execution_count": 7,
   "id": "1eee5b82-544d-4ee4-a134-68f2256ac08d",
   "metadata": {},
   "outputs": [],
   "source": [
    "import pandas as pd"
   ]
  },
  {
   "cell_type": "code",
   "execution_count": 9,
   "id": "5032c0d6-bf91-4281-9088-055d01821c92",
   "metadata": {},
   "outputs": [],
   "source": [
    "dict1={'Name':['Priyang','Aadhya','Kirshna','Vedant','Parshv','Mittal','Archane'],\n",
    "        'Marks':[98,89,99,87,90,83,99],\n",
    "        'Gender':['Male','Female','Female','Male','Male','Female','Female']}"
   ]
  },
  {
   "cell_type": "code",
   "execution_count": 10,
   "id": "9a68ed21-c95c-480d-af30-2d87d31f539b",
   "metadata": {},
   "outputs": [
    {
     "data": {
      "text/html": [
       "<div>\n",
       "<style scoped>\n",
       "    .dataframe tbody tr th:only-of-type {\n",
       "        vertical-align: middle;\n",
       "    }\n",
       "\n",
       "    .dataframe tbody tr th {\n",
       "        vertical-align: top;\n",
       "    }\n",
       "\n",
       "    .dataframe thead th {\n",
       "        text-align: right;\n",
       "    }\n",
       "</style>\n",
       "<table border=\"1\" class=\"dataframe\">\n",
       "  <thead>\n",
       "    <tr style=\"text-align: right;\">\n",
       "      <th></th>\n",
       "      <th>Name</th>\n",
       "      <th>Marks</th>\n",
       "      <th>Gender</th>\n",
       "    </tr>\n",
       "  </thead>\n",
       "  <tbody>\n",
       "    <tr>\n",
       "      <th>0</th>\n",
       "      <td>Priyang</td>\n",
       "      <td>98</td>\n",
       "      <td>Male</td>\n",
       "    </tr>\n",
       "    <tr>\n",
       "      <th>1</th>\n",
       "      <td>Aadhya</td>\n",
       "      <td>89</td>\n",
       "      <td>Female</td>\n",
       "    </tr>\n",
       "    <tr>\n",
       "      <th>2</th>\n",
       "      <td>Kirshna</td>\n",
       "      <td>99</td>\n",
       "      <td>Female</td>\n",
       "    </tr>\n",
       "    <tr>\n",
       "      <th>3</th>\n",
       "      <td>Vedant</td>\n",
       "      <td>87</td>\n",
       "      <td>Male</td>\n",
       "    </tr>\n",
       "    <tr>\n",
       "      <th>4</th>\n",
       "      <td>Parshv</td>\n",
       "      <td>90</td>\n",
       "      <td>Male</td>\n",
       "    </tr>\n",
       "    <tr>\n",
       "      <th>5</th>\n",
       "      <td>Mittal</td>\n",
       "      <td>83</td>\n",
       "      <td>Female</td>\n",
       "    </tr>\n",
       "    <tr>\n",
       "      <th>6</th>\n",
       "      <td>Archane</td>\n",
       "      <td>99</td>\n",
       "      <td>Female</td>\n",
       "    </tr>\n",
       "  </tbody>\n",
       "</table>\n",
       "</div>"
      ],
      "text/plain": [
       "      Name  Marks  Gender\n",
       "0  Priyang     98    Male\n",
       "1   Aadhya     89  Female\n",
       "2  Kirshna     99  Female\n",
       "3   Vedant     87    Male\n",
       "4   Parshv     90    Male\n",
       "5   Mittal     83  Female\n",
       "6  Archane     99  Female"
      ]
     },
     "execution_count": 10,
     "metadata": {},
     "output_type": "execute_result"
    }
   ],
   "source": [
    "df1=pd.DataFrame(dict1)\n",
    "df1"
   ]
  },
  {
   "cell_type": "markdown",
   "id": "0ebb1645-dff0-4e3c-b464-1e78eeed6bc9",
   "metadata": {},
   "source": [
    "**1.Display Top 3 Rows of the dataset**"
   ]
  },
  {
   "cell_type": "code",
   "execution_count": 12,
   "id": "44f7d03a-c27a-42e7-a0f9-0f83febc70a1",
   "metadata": {},
   "outputs": [
    {
     "data": {
      "text/html": [
       "<div>\n",
       "<style scoped>\n",
       "    .dataframe tbody tr th:only-of-type {\n",
       "        vertical-align: middle;\n",
       "    }\n",
       "\n",
       "    .dataframe tbody tr th {\n",
       "        vertical-align: top;\n",
       "    }\n",
       "\n",
       "    .dataframe thead th {\n",
       "        text-align: right;\n",
       "    }\n",
       "</style>\n",
       "<table border=\"1\" class=\"dataframe\">\n",
       "  <thead>\n",
       "    <tr style=\"text-align: right;\">\n",
       "      <th></th>\n",
       "      <th>Name</th>\n",
       "      <th>Marks</th>\n",
       "      <th>Gender</th>\n",
       "    </tr>\n",
       "  </thead>\n",
       "  <tbody>\n",
       "    <tr>\n",
       "      <th>0</th>\n",
       "      <td>Priyang</td>\n",
       "      <td>98</td>\n",
       "      <td>Male</td>\n",
       "    </tr>\n",
       "    <tr>\n",
       "      <th>1</th>\n",
       "      <td>Aadhya</td>\n",
       "      <td>89</td>\n",
       "      <td>Female</td>\n",
       "    </tr>\n",
       "    <tr>\n",
       "      <th>2</th>\n",
       "      <td>Kirshna</td>\n",
       "      <td>99</td>\n",
       "      <td>Female</td>\n",
       "    </tr>\n",
       "  </tbody>\n",
       "</table>\n",
       "</div>"
      ],
      "text/plain": [
       "      Name  Marks  Gender\n",
       "0  Priyang     98    Male\n",
       "1   Aadhya     89  Female\n",
       "2  Kirshna     99  Female"
      ]
     },
     "execution_count": 12,
     "metadata": {},
     "output_type": "execute_result"
    }
   ],
   "source": [
    "df1.head(3)"
   ]
  },
  {
   "cell_type": "markdown",
   "id": "086d05ce-59cc-4389-a123-abdaacf69d32",
   "metadata": {},
   "source": [
    "**2.Check Last 3 rows of the dataset**"
   ]
  },
  {
   "cell_type": "code",
   "execution_count": 14,
   "id": "173c354c-86d5-42fb-86fc-0ab1c2925c7f",
   "metadata": {},
   "outputs": [
    {
     "data": {
      "text/html": [
       "<div>\n",
       "<style scoped>\n",
       "    .dataframe tbody tr th:only-of-type {\n",
       "        vertical-align: middle;\n",
       "    }\n",
       "\n",
       "    .dataframe tbody tr th {\n",
       "        vertical-align: top;\n",
       "    }\n",
       "\n",
       "    .dataframe thead th {\n",
       "        text-align: right;\n",
       "    }\n",
       "</style>\n",
       "<table border=\"1\" class=\"dataframe\">\n",
       "  <thead>\n",
       "    <tr style=\"text-align: right;\">\n",
       "      <th></th>\n",
       "      <th>Name</th>\n",
       "      <th>Marks</th>\n",
       "      <th>Gender</th>\n",
       "    </tr>\n",
       "  </thead>\n",
       "  <tbody>\n",
       "    <tr>\n",
       "      <th>4</th>\n",
       "      <td>Parshv</td>\n",
       "      <td>90</td>\n",
       "      <td>Male</td>\n",
       "    </tr>\n",
       "    <tr>\n",
       "      <th>5</th>\n",
       "      <td>Mittal</td>\n",
       "      <td>83</td>\n",
       "      <td>Female</td>\n",
       "    </tr>\n",
       "    <tr>\n",
       "      <th>6</th>\n",
       "      <td>Archane</td>\n",
       "      <td>99</td>\n",
       "      <td>Female</td>\n",
       "    </tr>\n",
       "  </tbody>\n",
       "</table>\n",
       "</div>"
      ],
      "text/plain": [
       "      Name  Marks  Gender\n",
       "4   Parshv     90    Male\n",
       "5   Mittal     83  Female\n",
       "6  Archane     99  Female"
      ]
     },
     "execution_count": 14,
     "metadata": {},
     "output_type": "execute_result"
    }
   ],
   "source": [
    "df1.tail(3)"
   ]
  },
  {
   "cell_type": "markdown",
   "id": "f4f4069c-d7c3-4fc6-928f-361714cf2195",
   "metadata": {},
   "source": [
    "**3.Find shape of ouur dataset(No of rows & no of columns)**"
   ]
  },
  {
   "cell_type": "code",
   "execution_count": 17,
   "id": "4242e5be-3437-4fb4-b3db-68a2e222bf02",
   "metadata": {},
   "outputs": [
    {
     "data": {
      "text/plain": [
       "(7, 3)"
      ]
     },
     "execution_count": 17,
     "metadata": {},
     "output_type": "execute_result"
    }
   ],
   "source": [
    "df1.shape"
   ]
  },
  {
   "cell_type": "code",
   "execution_count": 18,
   "id": "fbcbfac4-644d-42c0-bf43-c3a414d80af4",
   "metadata": {},
   "outputs": [
    {
     "name": "stdout",
     "output_type": "stream",
     "text": [
      "No of rows 7  No.of Columns 3\n"
     ]
    }
   ],
   "source": [
    "print('No of rows',df1.shape[0],' No.of Columns',df1.shape[1])"
   ]
  },
  {
   "cell_type": "markdown",
   "id": "a312b077-7d68-47f6-a512-538206399a56",
   "metadata": {},
   "source": [
    "**4.Get info about our dataset like Total Number Rows, Total no of columns, Datatypes of each column and memory requirement**"
   ]
  },
  {
   "cell_type": "code",
   "execution_count": 19,
   "id": "ad4cb021-a384-4980-a0db-4ecaea49b58d",
   "metadata": {},
   "outputs": [
    {
     "name": "stdout",
     "output_type": "stream",
     "text": [
      "<class 'pandas.core.frame.DataFrame'>\n",
      "RangeIndex: 7 entries, 0 to 6\n",
      "Data columns (total 3 columns):\n",
      " #   Column  Non-Null Count  Dtype \n",
      "---  ------  --------------  ----- \n",
      " 0   Name    7 non-null      object\n",
      " 1   Marks   7 non-null      int64 \n",
      " 2   Gender  7 non-null      object\n",
      "dtypes: int64(1), object(2)\n",
      "memory usage: 300.0+ bytes\n"
     ]
    }
   ],
   "source": [
    "df1.info()"
   ]
  },
  {
   "cell_type": "markdown",
   "id": "34612b85-8459-4d53-8ab3-a66034400bea",
   "metadata": {},
   "source": [
    "**5.Check null values**"
   ]
  },
  {
   "cell_type": "code",
   "execution_count": 20,
   "id": "0a970b97-8157-41ad-a329-501033df1912",
   "metadata": {},
   "outputs": [
    {
     "data": {
      "text/html": [
       "<div>\n",
       "<style scoped>\n",
       "    .dataframe tbody tr th:only-of-type {\n",
       "        vertical-align: middle;\n",
       "    }\n",
       "\n",
       "    .dataframe tbody tr th {\n",
       "        vertical-align: top;\n",
       "    }\n",
       "\n",
       "    .dataframe thead th {\n",
       "        text-align: right;\n",
       "    }\n",
       "</style>\n",
       "<table border=\"1\" class=\"dataframe\">\n",
       "  <thead>\n",
       "    <tr style=\"text-align: right;\">\n",
       "      <th></th>\n",
       "      <th>Name</th>\n",
       "      <th>Marks</th>\n",
       "      <th>Gender</th>\n",
       "    </tr>\n",
       "  </thead>\n",
       "  <tbody>\n",
       "    <tr>\n",
       "      <th>0</th>\n",
       "      <td>False</td>\n",
       "      <td>False</td>\n",
       "      <td>False</td>\n",
       "    </tr>\n",
       "    <tr>\n",
       "      <th>1</th>\n",
       "      <td>False</td>\n",
       "      <td>False</td>\n",
       "      <td>False</td>\n",
       "    </tr>\n",
       "    <tr>\n",
       "      <th>2</th>\n",
       "      <td>False</td>\n",
       "      <td>False</td>\n",
       "      <td>False</td>\n",
       "    </tr>\n",
       "    <tr>\n",
       "      <th>3</th>\n",
       "      <td>False</td>\n",
       "      <td>False</td>\n",
       "      <td>False</td>\n",
       "    </tr>\n",
       "    <tr>\n",
       "      <th>4</th>\n",
       "      <td>False</td>\n",
       "      <td>False</td>\n",
       "      <td>False</td>\n",
       "    </tr>\n",
       "    <tr>\n",
       "      <th>5</th>\n",
       "      <td>False</td>\n",
       "      <td>False</td>\n",
       "      <td>False</td>\n",
       "    </tr>\n",
       "    <tr>\n",
       "      <th>6</th>\n",
       "      <td>False</td>\n",
       "      <td>False</td>\n",
       "      <td>False</td>\n",
       "    </tr>\n",
       "  </tbody>\n",
       "</table>\n",
       "</div>"
      ],
      "text/plain": [
       "    Name  Marks  Gender\n",
       "0  False  False   False\n",
       "1  False  False   False\n",
       "2  False  False   False\n",
       "3  False  False   False\n",
       "4  False  False   False\n",
       "5  False  False   False\n",
       "6  False  False   False"
      ]
     },
     "execution_count": 20,
     "metadata": {},
     "output_type": "execute_result"
    }
   ],
   "source": [
    "df1.isnull()"
   ]
  },
  {
   "cell_type": "code",
   "execution_count": 21,
   "id": "672b4339-f78e-4499-89ee-51c6821d3d6b",
   "metadata": {},
   "outputs": [
    {
     "data": {
      "text/plain": [
       "Name      0\n",
       "Marks     0\n",
       "Gender    0\n",
       "dtype: int64"
      ]
     },
     "execution_count": 21,
     "metadata": {},
     "output_type": "execute_result"
    }
   ],
   "source": [
    "df1.isnull().sum()"
   ]
  },
  {
   "cell_type": "code",
   "execution_count": 25,
   "id": "728bb9f8-4c86-4759-9d0f-8382ea6cc5f2",
   "metadata": {},
   "outputs": [
    {
     "data": {
      "text/plain": [
       "0    0\n",
       "1    0\n",
       "2    0\n",
       "3    0\n",
       "4    0\n",
       "5    0\n",
       "6    0\n",
       "dtype: int64"
      ]
     },
     "execution_count": 25,
     "metadata": {},
     "output_type": "execute_result"
    }
   ],
   "source": [
    "df1.isnull().sum(axis=1)\n",
    "# row wise"
   ]
  },
  {
   "cell_type": "code",
   "execution_count": 26,
   "id": "7af4785d-9448-40a5-9b02-c2f400865581",
   "metadata": {},
   "outputs": [
    {
     "data": {
      "text/plain": [
       "Name      0\n",
       "Marks     0\n",
       "Gender    0\n",
       "dtype: int64"
      ]
     },
     "execution_count": 26,
     "metadata": {},
     "output_type": "execute_result"
    }
   ],
   "source": [
    "df1.isnull().sum(axis=0)\n",
    "# column wise"
   ]
  },
  {
   "cell_type": "markdown",
   "id": "9bcfd7d9-30d1-4ca2-82e3-cb040f08ff07",
   "metadata": {},
   "source": [
    "**6. Get overall statistics about the dataframe**"
   ]
  },
  {
   "cell_type": "code",
   "execution_count": 27,
   "id": "c49bc1e2-1e9f-4d6a-b3e5-45c7561b1a75",
   "metadata": {},
   "outputs": [
    {
     "data": {
      "text/html": [
       "<div>\n",
       "<style scoped>\n",
       "    .dataframe tbody tr th:only-of-type {\n",
       "        vertical-align: middle;\n",
       "    }\n",
       "\n",
       "    .dataframe tbody tr th {\n",
       "        vertical-align: top;\n",
       "    }\n",
       "\n",
       "    .dataframe thead th {\n",
       "        text-align: right;\n",
       "    }\n",
       "</style>\n",
       "<table border=\"1\" class=\"dataframe\">\n",
       "  <thead>\n",
       "    <tr style=\"text-align: right;\">\n",
       "      <th></th>\n",
       "      <th>Marks</th>\n",
       "    </tr>\n",
       "  </thead>\n",
       "  <tbody>\n",
       "    <tr>\n",
       "      <th>count</th>\n",
       "      <td>7.000000</td>\n",
       "    </tr>\n",
       "    <tr>\n",
       "      <th>mean</th>\n",
       "      <td>92.142857</td>\n",
       "    </tr>\n",
       "    <tr>\n",
       "      <th>std</th>\n",
       "      <td>6.491753</td>\n",
       "    </tr>\n",
       "    <tr>\n",
       "      <th>min</th>\n",
       "      <td>83.000000</td>\n",
       "    </tr>\n",
       "    <tr>\n",
       "      <th>25%</th>\n",
       "      <td>88.000000</td>\n",
       "    </tr>\n",
       "    <tr>\n",
       "      <th>50%</th>\n",
       "      <td>90.000000</td>\n",
       "    </tr>\n",
       "    <tr>\n",
       "      <th>75%</th>\n",
       "      <td>98.500000</td>\n",
       "    </tr>\n",
       "    <tr>\n",
       "      <th>max</th>\n",
       "      <td>99.000000</td>\n",
       "    </tr>\n",
       "  </tbody>\n",
       "</table>\n",
       "</div>"
      ],
      "text/plain": [
       "           Marks\n",
       "count   7.000000\n",
       "mean   92.142857\n",
       "std     6.491753\n",
       "min    83.000000\n",
       "25%    88.000000\n",
       "50%    90.000000\n",
       "75%    98.500000\n",
       "max    99.000000"
      ]
     },
     "execution_count": 27,
     "metadata": {},
     "output_type": "execute_result"
    }
   ],
   "source": [
    "df1.describe()"
   ]
  },
  {
   "cell_type": "code",
   "execution_count": null,
   "id": "00684106-4c3c-4bea-b376-34b7fa204ec7",
   "metadata": {},
   "outputs": [],
   "source": []
  }
 ],
 "metadata": {
  "kernelspec": {
   "display_name": "Python 3 (ipykernel)",
   "language": "python",
   "name": "python3"
  },
  "language_info": {
   "codemirror_mode": {
    "name": "ipython",
    "version": 3
   },
   "file_extension": ".py",
   "mimetype": "text/x-python",
   "name": "python",
   "nbconvert_exporter": "python",
   "pygments_lexer": "ipython3",
   "version": "3.13.3"
  }
 },
 "nbformat": 4,
 "nbformat_minor": 5
}
