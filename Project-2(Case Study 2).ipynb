{
 "cells": [
  {
   "cell_type": "code",
   "execution_count": null,
   "id": "52a49d8e-a9fe-4c4b-ab3a-4a496ed71104",
   "metadata": {},
   "outputs": [],
   "source": []
  }
 ],
 "metadata": {
  "kernelspec": {
   "display_name": "",
   "name": ""
  },
  "language_info": {
   "name": ""
  }
 },
 "nbformat": 4,
 "nbformat_minor": 5
}
